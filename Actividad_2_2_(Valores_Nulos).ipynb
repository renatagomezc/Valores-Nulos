{
  "nbformat": 4,
  "nbformat_minor": 0,
  "metadata": {
    "colab": {
      "provenance": [],
      "include_colab_link": true
    },
    "kernelspec": {
      "name": "python3",
      "display_name": "Python 3"
    },
    "language_info": {
      "name": "python"
    }
  },
  "cells": [
    {
      "cell_type": "markdown",
      "metadata": {
        "id": "view-in-github",
        "colab_type": "text"
      },
      "source": [
        "<a href=\"https://colab.research.google.com/github/renatagomezc/Valores-Nulos/blob/main/Actividad_2_2_(Valores_Nulos).ipynb\" target=\"_parent\"><img src=\"https://colab.research.google.com/assets/colab-badge.svg\" alt=\"Open In Colab\"/></a>"
      ]
    },
    {
      "cell_type": "code",
      "source": [
        "import pandas as pd\n",
        "from pandas import Series, DataFrame"
      ],
      "metadata": {
        "id": "7ry4BM0oRP4L"
      },
      "execution_count": null,
      "outputs": []
    },
    {
      "cell_type": "code",
      "execution_count": null,
      "metadata": {
        "id": "8g-F1TUaOEAx"
      },
      "outputs": [],
      "source": [
        "clientes = pd.read_excel('clientes.xlsx', index_col=0)\n",
        "devoluciones = pd.read_excel('devoluciones.xlsx', index_col=0)\n",
        "facturacion = pd.read_excel('facturacion.xlsx', index_col=0)\n",
        "notas_credito = pd.read_excel('notas_credito.xlsx', index_col=0)\n",
        "precios = pd.read_excel('precios_productos.xlsx', index_col=0)\n",
        "gastos_20 = pd.read_excel('gastos_costos2020.xlsx', index_col=0)\n",
        "gastos_21 = pd.read_excel('gastos_costos2021.xlsx', index_col=0)\n",
        "gastos_22 = pd.read_excel('gastos_costos2022.xlsx', index_col=0)\n",
        "gastos_23 = pd.read_excel('gastos_costos2023.xlsx', index_col=0)"
      ]
    },
    {
      "cell_type": "markdown",
      "source": [
        "**Detalle de precios y Productos fabricados**\n",
        "\n",
        "Este dataframe no tiene datos nulos"
      ],
      "metadata": {
        "id": "D9HF1pIdbRIu"
      }
    },
    {
      "cell_type": "code",
      "source": [
        "precios.info()"
      ],
      "metadata": {
        "colab": {
          "base_uri": "https://localhost:8080/"
        },
        "id": "fjXty2N5bMWD",
        "outputId": "9582091b-9b14-42b2-cd7b-9eb5aa55128a"
      },
      "execution_count": null,
      "outputs": [
        {
          "output_type": "stream",
          "name": "stdout",
          "text": [
            "<class 'pandas.core.frame.DataFrame'>\n",
            "Int64Index: 1426 entries, 0 to 1425\n",
            "Data columns (total 14 columns):\n",
            " #   Column                     Non-Null Count  Dtype         \n",
            "---  ------                     --------------  -----         \n",
            " 0   CVE_DOC                    1426 non-null   object        \n",
            " 1   FECHA_DOC                  1426 non-null   datetime64[ns]\n",
            " 2   NOMBRE_VENDEDOR            1424 non-null   object        \n",
            " 3   NOMBRE_CLIENTE             1426 non-null   object        \n",
            " 4   CANT                       1426 non-null   int64         \n",
            " 5   CVE_ART                    1426 non-null   object        \n",
            " 6   DESCR                      1426 non-null   object        \n",
            " 7   PRECIO_UNITARIO            1426 non-null   float64       \n",
            " 8   COSTO_UNITARIO             1426 non-null   float64       \n",
            " 9   COSTO_UNITARIO_CALCULADO   1426 non-null   float64       \n",
            " 10  SUBTOTAL_PARTIDA           1426 non-null   float64       \n",
            " 11  COSTO_TOTAL_CALCULADO      1426 non-null   float64       \n",
            " 12  MARGEN_UNITARIO_CALCULADO  1426 non-null   float64       \n",
            " 13  MARGEN_TOTAL_CALCULADO     1426 non-null   float64       \n",
            "dtypes: datetime64[ns](1), float64(7), int64(1), object(5)\n",
            "memory usage: 167.1+ KB\n"
          ]
        }
      ]
    },
    {
      "cell_type": "markdown",
      "source": [
        "**Facturación**"
      ],
      "metadata": {
        "id": "7OtSyVSCT-7D"
      }
    },
    {
      "cell_type": "code",
      "source": [
        "facturacion.info()"
      ],
      "metadata": {
        "colab": {
          "base_uri": "https://localhost:8080/"
        },
        "id": "lmAOGxM-UAkC",
        "outputId": "aa3d686c-3033-4c2c-e003-e4a732c92ebf"
      },
      "execution_count": null,
      "outputs": [
        {
          "output_type": "stream",
          "name": "stdout",
          "text": [
            "<class 'pandas.core.frame.DataFrame'>\n",
            "Int64Index: 10961 entries, 0 to 10960\n",
            "Data columns (total 13 columns):\n",
            " #   Column         Non-Null Count  Dtype         \n",
            "---  ------         --------------  -----         \n",
            " 0   CVE_DOC        10961 non-null  object        \n",
            " 1   CVE_CLPV       10961 non-null  object        \n",
            " 2   STATUS         10961 non-null  object        \n",
            " 3   CVE_VEND       10913 non-null  float64       \n",
            " 4   FECHA_ELAB     10961 non-null  datetime64[ns]\n",
            " 5   FECHA_DOC      10961 non-null  datetime64[ns]\n",
            " 6   FECHA_ENTREGA  10959 non-null  object        \n",
            " 7   FECHA_VEN      10961 non-null  datetime64[ns]\n",
            " 8   FECHA_CANCELA  358 non-null    datetime64[ns]\n",
            " 9   CANTD_TOT      10961 non-null  float64       \n",
            " 10  DES_TOT        10961 non-null  float64       \n",
            " 11  DES_FIN        10961 non-null  int64         \n",
            " 12  RFC            10961 non-null  object        \n",
            "dtypes: datetime64[ns](4), float64(3), int64(1), object(5)\n",
            "memory usage: 1.2+ MB\n"
          ]
        }
      ]
    },
    {
      "cell_type": "code",
      "source": [
        "facturacion=facturacion.fillna({'FECHA_CANCELA':'--','CVE_VEND':'--','FECHA_ENTREGA':'--'})\n",
        "facturacion.isnull().sum()"
      ],
      "metadata": {
        "colab": {
          "base_uri": "https://localhost:8080/"
        },
        "id": "CxNTP3qzidzy",
        "outputId": "a8deb038-1ce8-4e4f-d0b8-1c8978117440"
      },
      "execution_count": null,
      "outputs": [
        {
          "output_type": "execute_result",
          "data": {
            "text/plain": [
              "CVE_DOC          0\n",
              "CVE_CLPV         0\n",
              "STATUS           0\n",
              "CVE_VEND         0\n",
              "FECHA_ELAB       0\n",
              "FECHA_DOC        0\n",
              "FECHA_ENTREGA    0\n",
              "FECHA_VEN        0\n",
              "FECHA_CANCELA    0\n",
              "CANTD_TOT        0\n",
              "DES_TOT          0\n",
              "DES_FIN          0\n",
              "RFC              0\n",
              "dtype: int64"
            ]
          },
          "metadata": {},
          "execution_count": 5
        }
      ]
    },
    {
      "cell_type": "markdown",
      "source": [
        "**Devoluciones**"
      ],
      "metadata": {
        "id": "nyyp7EgoS7xb"
      }
    },
    {
      "cell_type": "code",
      "source": [
        "devoluciones.info()"
      ],
      "metadata": {
        "colab": {
          "base_uri": "https://localhost:8080/"
        },
        "id": "LZVacaRSRv8F",
        "outputId": "407e897f-a0c3-4e25-dcaa-a3d616bfed1a"
      },
      "execution_count": null,
      "outputs": [
        {
          "output_type": "stream",
          "name": "stdout",
          "text": [
            "<class 'pandas.core.frame.DataFrame'>\n",
            "Int64Index: 194 entries, 0 to 193\n",
            "Data columns (total 17 columns):\n",
            " #   Column         Non-Null Count  Dtype         \n",
            "---  ------         --------------  -----         \n",
            " 0   TIP_DOC        194 non-null    object        \n",
            " 1   CVE_DOC        194 non-null    object        \n",
            " 2   CVE_CLPV       194 non-null    object        \n",
            " 3   STATUS         194 non-null    object        \n",
            " 4   CVE_VEND       191 non-null    float64       \n",
            " 5   CVE_PEDI       188 non-null    object        \n",
            " 6   FECHA_DOC      194 non-null    datetime64[ns]\n",
            " 7   FECHA_ENTREGA  194 non-null    datetime64[ns]\n",
            " 8   FECHA_VEN      194 non-null    datetime64[ns]\n",
            " 9   FECHA_CANCELA  7 non-null      datetime64[ns]\n",
            " 10  CANTD_TOT      194 non-null    float64       \n",
            " 11  DES_FIN        194 non-null    int64         \n",
            " 12  FECHA_ELAB     194 non-null    datetime64[ns]\n",
            " 13  RFC            194 non-null    object        \n",
            " 14  SERIE          194 non-null    object        \n",
            " 15  FOLIO          194 non-null    int64         \n",
            " 16  DOC_ANT        183 non-null    object        \n",
            "dtypes: datetime64[ns](5), float64(2), int64(2), object(8)\n",
            "memory usage: 27.3+ KB\n"
          ]
        }
      ]
    },
    {
      "cell_type": "code",
      "source": [
        "devoluciones=devoluciones.fillna({'DOC_ANT':'--', 'CVE_PEDI':'--', 'FECHA_CANCELA':'--','CVE_VEND':'--'})\n",
        "devoluciones.isnull().sum()"
      ],
      "metadata": {
        "colab": {
          "base_uri": "https://localhost:8080/"
        },
        "id": "atkmhy6LjCDh",
        "outputId": "35aa3df3-8223-4d65-b8b5-d3baa83c7713"
      },
      "execution_count": null,
      "outputs": [
        {
          "output_type": "execute_result",
          "data": {
            "text/plain": [
              "TIP_DOC          0\n",
              "CVE_DOC          0\n",
              "CVE_CLPV         0\n",
              "STATUS           0\n",
              "CVE_VEND         0\n",
              "CVE_PEDI         0\n",
              "FECHA_DOC        0\n",
              "FECHA_ENTREGA    0\n",
              "FECHA_VEN        0\n",
              "FECHA_CANCELA    0\n",
              "CANTD_TOT        0\n",
              "DES_FIN          0\n",
              "FECHA_ELAB       0\n",
              "RFC              0\n",
              "SERIE            0\n",
              "FOLIO            0\n",
              "DOC_ANT          0\n",
              "dtype: int64"
            ]
          },
          "metadata": {},
          "execution_count": 7
        }
      ]
    },
    {
      "cell_type": "markdown",
      "source": [
        "**Clientes**"
      ],
      "metadata": {
        "id": "mFAf7X6GS--u"
      }
    },
    {
      "cell_type": "code",
      "source": [
        "clientes.info()"
      ],
      "metadata": {
        "colab": {
          "base_uri": "https://localhost:8080/"
        },
        "id": "4Pxw71TSTEUa",
        "outputId": "fe05af20-353b-44b4-a785-c3d80dd13fd9"
      },
      "execution_count": null,
      "outputs": [
        {
          "output_type": "stream",
          "name": "stdout",
          "text": [
            "<class 'pandas.core.frame.DataFrame'>\n",
            "Int64Index: 5025 entries, 0 to 5024\n",
            "Data columns (total 3 columns):\n",
            " #   Column  Non-Null Count  Dtype \n",
            "---  ------  --------------  ----- \n",
            " 0   CLAVE   5025 non-null   object\n",
            " 1   RFC     5010 non-null   object\n",
            " 2   NOMBRE  5024 non-null   object\n",
            "dtypes: object(3)\n",
            "memory usage: 157.0+ KB\n"
          ]
        }
      ]
    },
    {
      "cell_type": "code",
      "source": [
        "clientes=clientes.fillna({'RFC':'--','NOMBRE':'--'})\n",
        "clientes.isnull().sum()"
      ],
      "metadata": {
        "colab": {
          "base_uri": "https://localhost:8080/"
        },
        "id": "MD6ITSY4j6tE",
        "outputId": "fd049e5b-0cab-4418-c8e4-828eb561be4a"
      },
      "execution_count": null,
      "outputs": [
        {
          "output_type": "execute_result",
          "data": {
            "text/plain": [
              "CLAVE     0\n",
              "RFC       0\n",
              "NOMBRE    0\n",
              "dtype: int64"
            ]
          },
          "metadata": {},
          "execution_count": 9
        }
      ]
    },
    {
      "cell_type": "markdown",
      "source": [
        "**Notas de Crédito**"
      ],
      "metadata": {
        "id": "f6uZqYEpTIzU"
      }
    },
    {
      "cell_type": "code",
      "source": [
        "notas_credito.info()"
      ],
      "metadata": {
        "colab": {
          "base_uri": "https://localhost:8080/"
        },
        "id": "9l2ybN8sTF-t",
        "outputId": "c26fced8-a821-429c-e4cb-2d64ee6f5355"
      },
      "execution_count": null,
      "outputs": [
        {
          "output_type": "stream",
          "name": "stdout",
          "text": [
            "<class 'pandas.core.frame.DataFrame'>\n",
            "Int64Index: 515 entries, 0 to 514\n",
            "Data columns (total 15 columns):\n",
            " #   Column         Non-Null Count  Dtype         \n",
            "---  ------         --------------  -----         \n",
            " 0   TIP_DOC        515 non-null    object        \n",
            " 1   CVE_DOC        515 non-null    object        \n",
            " 2   CVE_CLPV       515 non-null    int64         \n",
            " 3   STATUS         515 non-null    object        \n",
            " 4   CVE_VEND       505 non-null    float64       \n",
            " 5   CVE_PEDI       504 non-null    object        \n",
            " 6   FECHA_DOC      515 non-null    datetime64[ns]\n",
            " 7   FECHA_ENTREGA  515 non-null    datetime64[ns]\n",
            " 8   FECHA_VEN      515 non-null    datetime64[ns]\n",
            " 9   FECHA_CANCELA  18 non-null     datetime64[ns]\n",
            " 10  CANTD_TOT      515 non-null    float64       \n",
            " 11  FECHA_ELAB     515 non-null    datetime64[ns]\n",
            " 12  RFC            515 non-null    object        \n",
            " 13  SERIE          515 non-null    object        \n",
            " 14  FOLIO          515 non-null    int64         \n",
            "dtypes: datetime64[ns](5), float64(2), int64(2), object(6)\n",
            "memory usage: 64.4+ KB\n"
          ]
        }
      ]
    },
    {
      "cell_type": "code",
      "source": [
        "notas_credito=notas_credito.fillna({'CVE_PEDI':'--','FECHA_CANCELA':'--','CVE_VEND':'--'})\n",
        "notas_credito.isnull().sum()"
      ],
      "metadata": {
        "colab": {
          "base_uri": "https://localhost:8080/"
        },
        "id": "pG-15N06kg_L",
        "outputId": "235af6e5-fd14-474f-b49c-83307a4889fb"
      },
      "execution_count": null,
      "outputs": [
        {
          "output_type": "execute_result",
          "data": {
            "text/plain": [
              "TIP_DOC          0\n",
              "CVE_DOC          0\n",
              "CVE_CLPV         0\n",
              "STATUS           0\n",
              "CVE_VEND         0\n",
              "CVE_PEDI         0\n",
              "FECHA_DOC        0\n",
              "FECHA_ENTREGA    0\n",
              "FECHA_VEN        0\n",
              "FECHA_CANCELA    0\n",
              "CANTD_TOT        0\n",
              "FECHA_ELAB       0\n",
              "RFC              0\n",
              "SERIE            0\n",
              "FOLIO            0\n",
              "dtype: int64"
            ]
          },
          "metadata": {},
          "execution_count": 11
        }
      ]
    },
    {
      "cell_type": "markdown",
      "source": [
        "**Gastos y Costos**"
      ],
      "metadata": {
        "id": "H4MRKRqyTRhG"
      }
    },
    {
      "cell_type": "markdown",
      "source": [
        "*Gastos y Costos 2020*"
      ],
      "metadata": {
        "id": "HS1UBAhTTVDV"
      }
    },
    {
      "cell_type": "code",
      "source": [
        "gastos_20.info()"
      ],
      "metadata": {
        "colab": {
          "base_uri": "https://localhost:8080/"
        },
        "id": "GwOPzBaLR8wC",
        "outputId": "7f2d197c-509b-44fe-cc47-f30f4c57a4e6"
      },
      "execution_count": null,
      "outputs": [
        {
          "output_type": "stream",
          "name": "stdout",
          "text": [
            "<class 'pandas.core.frame.DataFrame'>\n",
            "Int64Index: 3342 entries, 0 to 3341\n",
            "Data columns (total 19 columns):\n",
            " #   Column       Non-Null Count  Dtype         \n",
            "---  ------       --------------  -----         \n",
            " 0   FECHA        3342 non-null   datetime64[ns]\n",
            " 1   FOLIO        3153 non-null   object        \n",
            " 2   UUID         3342 non-null   object        \n",
            " 3   RFC          3342 non-null   object        \n",
            " 4   PROVEEDOR    3342 non-null   object        \n",
            " 5   TIPO GASTO   3342 non-null   object        \n",
            " 6   GASTO        840 non-null    object        \n",
            " 7   DESCRIPCION  3342 non-null   object        \n",
            " 8   TC           2951 non-null   float64       \n",
            " 9   IMPORTE      3308 non-null   float64       \n",
            " 10  IVA          3074 non-null   float64       \n",
            " 11  RET ISR      3342 non-null   float64       \n",
            " 12  RET IVA      3342 non-null   float64       \n",
            " 13  TOTAL MX     3342 non-null   float64       \n",
            " 14  TOTAL SAT    3342 non-null   float64       \n",
            " 15  TIPO         3341 non-null   object        \n",
            " 16  STATUS       3342 non-null   object        \n",
            " 17  POLIZA       21 non-null     object        \n",
            " 18  Columna1     3342 non-null   float64       \n",
            "dtypes: datetime64[ns](1), float64(8), object(10)\n",
            "memory usage: 522.2+ KB\n"
          ]
        }
      ]
    },
    {
      "cell_type": "code",
      "source": [
        "gastos_20['IMPORTE'].describe()"
      ],
      "metadata": {
        "colab": {
          "base_uri": "https://localhost:8080/"
        },
        "id": "vnaLq6puYLuA",
        "outputId": "c99f8f20-7ff1-45e1-b56b-21f24ddef60a"
      },
      "execution_count": null,
      "outputs": [
        {
          "output_type": "execute_result",
          "data": {
            "text/plain": [
              "count      3308.000000\n",
              "mean       3149.347521\n",
              "std        7377.181889\n",
              "min      -48907.340000\n",
              "25%          15.932500\n",
              "50%         490.000000\n",
              "75%        2820.607500\n",
              "max      109239.220000\n",
              "Name: IMPORTE, dtype: float64"
            ]
          },
          "metadata": {},
          "execution_count": 13
        }
      ]
    },
    {
      "cell_type": "code",
      "source": [
        "gastos_20['IVA'].describe()"
      ],
      "metadata": {
        "colab": {
          "base_uri": "https://localhost:8080/"
        },
        "id": "VgSaQx2SaJzS",
        "outputId": "9ba6e440-4e33-4cf8-b0f4-6c03f290c47b"
      },
      "execution_count": null,
      "outputs": [
        {
          "output_type": "execute_result",
          "data": {
            "text/plain": [
              "count     3074.000000\n",
              "mean       519.824801\n",
              "std       1405.323370\n",
              "min      -7825.170000\n",
              "25%          6.790000\n",
              "50%         83.915000\n",
              "75%        445.280000\n",
              "max      41280.000000\n",
              "Name: IVA, dtype: float64"
            ]
          },
          "metadata": {},
          "execution_count": 14
        }
      ]
    },
    {
      "cell_type": "code",
      "source": [
        "gastos_20=gastos_20.fillna({'FOLIO':'--','GASTO':0, 'TC':'--' ,'POLIZA':'--'})\n",
        "gastos_20['IMPORTE']=gastos_20 ['IMPORTE'].fillna(round(gastos_20['IMPORTE'].median(),1)) \n",
        "gastos_20['IVA']=gastos_20 ['IVA'].fillna(round(gastos_20['IVA'].median(),1))\n",
        "gastos_20['TIPO']=gastos_20['TIPO'].fillna('I') #Sustituimos con un string según el tipo de dato  \n",
        "\n",
        "gastos_20.isnull().sum()"
      ],
      "metadata": {
        "colab": {
          "base_uri": "https://localhost:8080/"
        },
        "id": "2VMG1lroTX9E",
        "outputId": "e33ebbe9-e1c4-486d-f70a-3cbbb1a339b9"
      },
      "execution_count": null,
      "outputs": [
        {
          "output_type": "execute_result",
          "data": {
            "text/plain": [
              "FECHA          0\n",
              "FOLIO          0\n",
              "UUID           0\n",
              "RFC            0\n",
              "PROVEEDOR      0\n",
              "TIPO GASTO     0\n",
              "GASTO          0\n",
              "DESCRIPCION    0\n",
              "TC             0\n",
              "IMPORTE        0\n",
              "IVA            0\n",
              "RET ISR        0\n",
              "RET IVA        0\n",
              "TOTAL MX       0\n",
              "TOTAL SAT      0\n",
              "TIPO           0\n",
              "STATUS         0\n",
              "POLIZA         0\n",
              "Columna1       0\n",
              "dtype: int64"
            ]
          },
          "metadata": {},
          "execution_count": 15
        }
      ]
    },
    {
      "cell_type": "markdown",
      "source": [
        "*Gastos y Costos 2021*"
      ],
      "metadata": {
        "id": "H69NmdseTcLY"
      }
    },
    {
      "cell_type": "code",
      "source": [
        "gastos_21.info()"
      ],
      "metadata": {
        "colab": {
          "base_uri": "https://localhost:8080/"
        },
        "id": "4KmXfrIJTdwk",
        "outputId": "0dfb8339-b7bf-4831-9787-eb66ff44def0"
      },
      "execution_count": null,
      "outputs": [
        {
          "output_type": "stream",
          "name": "stdout",
          "text": [
            "<class 'pandas.core.frame.DataFrame'>\n",
            "Int64Index: 3035 entries, 0 to 3034\n",
            "Data columns (total 18 columns):\n",
            " #   Column       Non-Null Count  Dtype         \n",
            "---  ------       --------------  -----         \n",
            " 0   FECHA        3035 non-null   datetime64[ns]\n",
            " 1   FOLIO        2888 non-null   object        \n",
            " 2   UUID         3035 non-null   object        \n",
            " 3   RFC          3035 non-null   object        \n",
            " 4   PROVEEDOR    3035 non-null   object        \n",
            " 5   TIPO GASTO   3035 non-null   object        \n",
            " 6   DESCRIPCION  3035 non-null   object        \n",
            " 7   MP           2381 non-null   object        \n",
            " 8   TC           3035 non-null   float64       \n",
            " 9   IMPORTE      3035 non-null   float64       \n",
            " 10  IVA          3035 non-null   float64       \n",
            " 11  RET ISR      3035 non-null   float64       \n",
            " 12  RET IVA      3035 non-null   float64       \n",
            " 13  TOTAL MX     3035 non-null   float64       \n",
            " 14  TOTAL SAT    3035 non-null   float64       \n",
            " 15  TIPO         3035 non-null   object        \n",
            " 16  STATUS       3035 non-null   object        \n",
            " 17  POLIZA       663 non-null    object        \n",
            "dtypes: datetime64[ns](1), float64(7), object(10)\n",
            "memory usage: 450.5+ KB\n"
          ]
        }
      ]
    },
    {
      "cell_type": "code",
      "source": [
        "gastos_21=gastos_21.fillna({'FOLIO':'--','MP':'--', 'POLIZA':'--'})\n",
        "gastos_21.isnull().sum()"
      ],
      "metadata": {
        "colab": {
          "base_uri": "https://localhost:8080/"
        },
        "id": "22Fwf_zSl8zk",
        "outputId": "f72b8fbe-925a-4df9-8487-f02a9698d73f"
      },
      "execution_count": null,
      "outputs": [
        {
          "output_type": "execute_result",
          "data": {
            "text/plain": [
              "FECHA          0\n",
              "FOLIO          0\n",
              "UUID           0\n",
              "RFC            0\n",
              "PROVEEDOR      0\n",
              "TIPO GASTO     0\n",
              "DESCRIPCION    0\n",
              "MP             0\n",
              "TC             0\n",
              "IMPORTE        0\n",
              "IVA            0\n",
              "RET ISR        0\n",
              "RET IVA        0\n",
              "TOTAL MX       0\n",
              "TOTAL SAT      0\n",
              "TIPO           0\n",
              "STATUS         0\n",
              "POLIZA         0\n",
              "dtype: int64"
            ]
          },
          "metadata": {},
          "execution_count": 17
        }
      ]
    },
    {
      "cell_type": "markdown",
      "source": [
        "*Gastos y Costos 2022*"
      ],
      "metadata": {
        "id": "u0Uxz3LhTib1"
      }
    },
    {
      "cell_type": "code",
      "source": [
        "gastos_22.info()"
      ],
      "metadata": {
        "colab": {
          "base_uri": "https://localhost:8080/"
        },
        "id": "nNFo1KwzTlc-",
        "outputId": "7457c9e8-d2ad-4564-daa1-bd6beef91fe5"
      },
      "execution_count": null,
      "outputs": [
        {
          "output_type": "stream",
          "name": "stdout",
          "text": [
            "<class 'pandas.core.frame.DataFrame'>\n",
            "Int64Index: 2577 entries, 0 to 2576\n",
            "Data columns (total 19 columns):\n",
            " #   Column       Non-Null Count  Dtype         \n",
            "---  ------       --------------  -----         \n",
            " 0   FECHA        2577 non-null   datetime64[ns]\n",
            " 1   FOLIO        2475 non-null   object        \n",
            " 2   UUID         2577 non-null   object        \n",
            " 3   RFC          2577 non-null   object        \n",
            " 4   PROOVEDOR    2577 non-null   object        \n",
            " 5   TIPO GASTO   2577 non-null   object        \n",
            " 6   DESCRIPCION  2577 non-null   object        \n",
            " 7   MP           2024 non-null   object        \n",
            " 8   TC           1941 non-null   float64       \n",
            " 9   Importe      2577 non-null   float64       \n",
            " 10  IVA          2577 non-null   float64       \n",
            " 11  RET ISR      2577 non-null   float64       \n",
            " 12  RET IVA      2577 non-null   float64       \n",
            " 13  Otros        0 non-null      float64       \n",
            " 14  TOTAL MX     2577 non-null   float64       \n",
            " 15  TOTAL SAT    2577 non-null   float64       \n",
            " 16  TIPO         2577 non-null   object        \n",
            " 17  STATUS       2577 non-null   object        \n",
            " 18  POLIZA       1776 non-null   object        \n",
            "dtypes: datetime64[ns](1), float64(8), object(10)\n",
            "memory usage: 402.7+ KB\n"
          ]
        }
      ]
    },
    {
      "cell_type": "code",
      "source": [
        "gastos_22['Otros'].isnull().sum()"
      ],
      "metadata": {
        "colab": {
          "base_uri": "https://localhost:8080/"
        },
        "id": "d4EKWxomXZdU",
        "outputId": "647fc10b-d6fd-4af9-fba5-53900c91a0c5"
      },
      "execution_count": null,
      "outputs": [
        {
          "output_type": "execute_result",
          "data": {
            "text/plain": [
              "2577"
            ]
          },
          "metadata": {},
          "execution_count": 19
        }
      ]
    },
    {
      "cell_type": "markdown",
      "source": [
        "Todos los datos en la columna de 'Otros' son valores nulos por lo que vamos a eliminar esa columna"
      ],
      "metadata": {
        "id": "n-ZZ2mBnXfZC"
      }
    },
    {
      "cell_type": "code",
      "source": [
        "gastos_22 = gastos_22.drop('Otros', axis=1)"
      ],
      "metadata": {
        "id": "9oJhQ5cOXmOS"
      },
      "execution_count": null,
      "outputs": []
    },
    {
      "cell_type": "code",
      "source": [
        "gastos_22=gastos_22.fillna({'FOLIO':'--','MP':'--', 'TC':'--','POLIZA':'--'})\n",
        "gastos_22.isnull().sum()"
      ],
      "metadata": {
        "colab": {
          "base_uri": "https://localhost:8080/"
        },
        "id": "Sw3UY51Tl81m",
        "outputId": "60861554-378a-4067-9af8-bb81b54249ef"
      },
      "execution_count": null,
      "outputs": [
        {
          "output_type": "execute_result",
          "data": {
            "text/plain": [
              "FECHA          0\n",
              "FOLIO          0\n",
              "UUID           0\n",
              "RFC            0\n",
              "PROOVEDOR      0\n",
              "TIPO GASTO     0\n",
              "DESCRIPCION    0\n",
              "MP             0\n",
              "TC             0\n",
              "Importe        0\n",
              "IVA            0\n",
              "RET ISR        0\n",
              "RET IVA        0\n",
              "TOTAL MX       0\n",
              "TOTAL SAT      0\n",
              "TIPO           0\n",
              "STATUS         0\n",
              "POLIZA         0\n",
              "dtype: int64"
            ]
          },
          "metadata": {},
          "execution_count": 21
        }
      ]
    },
    {
      "cell_type": "markdown",
      "source": [
        "*Gastos y Costos 2023*"
      ],
      "metadata": {
        "id": "E4IYc-PNTrTN"
      }
    },
    {
      "cell_type": "code",
      "source": [
        "gastos_23.info()"
      ],
      "metadata": {
        "colab": {
          "base_uri": "https://localhost:8080/"
        },
        "id": "Zll5iKXyTtei",
        "outputId": "64588a4f-f6ca-4904-8cbd-31a122343f8d"
      },
      "execution_count": null,
      "outputs": [
        {
          "output_type": "stream",
          "name": "stdout",
          "text": [
            "<class 'pandas.core.frame.DataFrame'>\n",
            "Int64Index: 397 entries, 0 to 396\n",
            "Data columns (total 20 columns):\n",
            " #   Column       Non-Null Count  Dtype         \n",
            "---  ------       --------------  -----         \n",
            " 0   FECHA        397 non-null    datetime64[ns]\n",
            " 1   FOLIO        384 non-null    object        \n",
            " 2   UUID         397 non-null    object        \n",
            " 3   RFC          397 non-null    object        \n",
            " 4   PROOVEDOR    397 non-null    object        \n",
            " 5   TIPO GASTO   389 non-null    object        \n",
            " 6   DESCRIPCION  397 non-null    object        \n",
            " 7   MP           326 non-null    object        \n",
            " 8   FP           326 non-null    float64       \n",
            " 9   TC           397 non-null    float64       \n",
            " 10  Importe      397 non-null    float64       \n",
            " 11  IVA          397 non-null    float64       \n",
            " 12  RET ISR      397 non-null    float64       \n",
            " 13  RET IVA      397 non-null    float64       \n",
            " 14  Otros        0 non-null      float64       \n",
            " 15  TOTAL MX     397 non-null    float64       \n",
            " 16  TOTAL SAT    397 non-null    float64       \n",
            " 17  TIPO         397 non-null    object        \n",
            " 18  STATUS       397 non-null    object        \n",
            " 19  POLIZA       282 non-null    object        \n",
            "dtypes: datetime64[ns](1), float64(9), object(10)\n",
            "memory usage: 65.1+ KB\n"
          ]
        }
      ]
    },
    {
      "cell_type": "code",
      "source": [
        "gastos_23['Otros'].isnull().sum()"
      ],
      "metadata": {
        "colab": {
          "base_uri": "https://localhost:8080/"
        },
        "outputId": "de55a1dc-2abe-461d-db2f-30280f2c3cd6",
        "id": "V86NY42uX8sw"
      },
      "execution_count": null,
      "outputs": [
        {
          "output_type": "execute_result",
          "data": {
            "text/plain": [
              "397"
            ]
          },
          "metadata": {},
          "execution_count": 23
        }
      ]
    },
    {
      "cell_type": "markdown",
      "source": [
        "Todos los datos en la columna de 'Otros' son valores nulos por lo que vamos a eliminar esa columna"
      ],
      "metadata": {
        "id": "Tnu1xnCbX8sx"
      }
    },
    {
      "cell_type": "code",
      "source": [
        "gastos_23 = gastos_23.drop('Otros', axis=1)"
      ],
      "metadata": {
        "id": "MdjGpz00X8sx"
      },
      "execution_count": null,
      "outputs": []
    },
    {
      "cell_type": "code",
      "source": [
        "gastos_23=gastos_23.fillna({'FOLIO':'--', 'TIPO GASTO':'OTROS','MP':'--', 'FP':'--', 'POLIZA':'--'})\n",
        "gastos_23.isnull().sum()"
      ],
      "metadata": {
        "colab": {
          "base_uri": "https://localhost:8080/"
        },
        "id": "TJasIZpomWLb",
        "outputId": "2f714fd3-0e4e-411d-a0bd-9dfe89a59150"
      },
      "execution_count": null,
      "outputs": [
        {
          "output_type": "execute_result",
          "data": {
            "text/plain": [
              "FECHA          0\n",
              "FOLIO          0\n",
              "UUID           0\n",
              "RFC            0\n",
              "PROOVEDOR      0\n",
              "TIPO GASTO     0\n",
              "DESCRIPCION    0\n",
              "MP             0\n",
              "FP             0\n",
              "TC             0\n",
              "Importe        0\n",
              "IVA            0\n",
              "RET ISR        0\n",
              "RET IVA        0\n",
              "TOTAL MX       0\n",
              "TOTAL SAT      0\n",
              "TIPO           0\n",
              "STATUS         0\n",
              "POLIZA         0\n",
              "dtype: int64"
            ]
          },
          "metadata": {},
          "execution_count": 25
        }
      ]
    },
    {
      "cell_type": "code",
      "source": [
        "#Convertir DataFrame a CSV\n",
        "devoluciones.to_csv('devoluciones_sin_nulos.csv')\n",
        "clientes.to_csv('clientes_sin_nulos.csv')\n",
        "facturacion.to_csv('facturacion_sin_nulos.csv')\n",
        "notas_credito.to_csv('notas_credito_sin_nulos.csv')\n",
        "gastos_20.to_csv('gastos_2020_sin_nulos.csv')\n",
        "gastos_21.to_csv('gastos_2021_sin_nulos.csv')\n",
        "gastos_22.to_csv('gastos_2022_sin_nulos.csv')\n",
        "gastos_23.to_csv('gastos_2023_sin_nulos.csv')"
      ],
      "metadata": {
        "id": "-RVJtem-9JiT"
      },
      "execution_count": null,
      "outputs": []
    },
    {
      "cell_type": "code",
      "source": [
        "#Descargar arhivo filtrado en csv\n",
        "from google.colab import files\n",
        "\n",
        "files.download('devoluciones_sin_nulos.csv')\n",
        "files.download('clientes_sin_nulos.csv')\n",
        "files.download('facturacion_sin_nulos.csv')\n",
        "files.download('notas_credito_sin_nulos.csv')\n",
        "files.download('gastos_2020_sin_nulos.csv')\n",
        "files.download('gastos_2021_sin_nulos.csv')\n",
        "files.download('gastos_2022_sin_nulos.csv')\n",
        "files.download('gastos_2023_sin_nulos.csv')"
      ],
      "metadata": {
        "id": "7D35WeYz9QTH",
        "colab": {
          "base_uri": "https://localhost:8080/",
          "height": 17
        },
        "outputId": "a5d7d541-dd68-4a92-a91e-01075fe6cf31"
      },
      "execution_count": null,
      "outputs": [
        {
          "output_type": "display_data",
          "data": {
            "text/plain": [
              "<IPython.core.display.Javascript object>"
            ],
            "application/javascript": [
              "\n",
              "    async function download(id, filename, size) {\n",
              "      if (!google.colab.kernel.accessAllowed) {\n",
              "        return;\n",
              "      }\n",
              "      const div = document.createElement('div');\n",
              "      const label = document.createElement('label');\n",
              "      label.textContent = `Downloading \"${filename}\": `;\n",
              "      div.appendChild(label);\n",
              "      const progress = document.createElement('progress');\n",
              "      progress.max = size;\n",
              "      div.appendChild(progress);\n",
              "      document.body.appendChild(div);\n",
              "\n",
              "      const buffers = [];\n",
              "      let downloaded = 0;\n",
              "\n",
              "      const channel = await google.colab.kernel.comms.open(id);\n",
              "      // Send a message to notify the kernel that we're ready.\n",
              "      channel.send({})\n",
              "\n",
              "      for await (const message of channel.messages) {\n",
              "        // Send a message to notify the kernel that we're ready.\n",
              "        channel.send({})\n",
              "        if (message.buffers) {\n",
              "          for (const buffer of message.buffers) {\n",
              "            buffers.push(buffer);\n",
              "            downloaded += buffer.byteLength;\n",
              "            progress.value = downloaded;\n",
              "          }\n",
              "        }\n",
              "      }\n",
              "      const blob = new Blob(buffers, {type: 'application/binary'});\n",
              "      const a = document.createElement('a');\n",
              "      a.href = window.URL.createObjectURL(blob);\n",
              "      a.download = filename;\n",
              "      div.appendChild(a);\n",
              "      a.click();\n",
              "      div.remove();\n",
              "    }\n",
              "  "
            ]
          },
          "metadata": {}
        },
        {
          "output_type": "display_data",
          "data": {
            "text/plain": [
              "<IPython.core.display.Javascript object>"
            ],
            "application/javascript": [
              "download(\"download_eb611b30-9b10-40ef-a0c5-5c163761dc3f\", \"devoluciones_sin_nulos.csv\", 27151)"
            ]
          },
          "metadata": {}
        },
        {
          "output_type": "display_data",
          "data": {
            "text/plain": [
              "<IPython.core.display.Javascript object>"
            ],
            "application/javascript": [
              "\n",
              "    async function download(id, filename, size) {\n",
              "      if (!google.colab.kernel.accessAllowed) {\n",
              "        return;\n",
              "      }\n",
              "      const div = document.createElement('div');\n",
              "      const label = document.createElement('label');\n",
              "      label.textContent = `Downloading \"${filename}\": `;\n",
              "      div.appendChild(label);\n",
              "      const progress = document.createElement('progress');\n",
              "      progress.max = size;\n",
              "      div.appendChild(progress);\n",
              "      document.body.appendChild(div);\n",
              "\n",
              "      const buffers = [];\n",
              "      let downloaded = 0;\n",
              "\n",
              "      const channel = await google.colab.kernel.comms.open(id);\n",
              "      // Send a message to notify the kernel that we're ready.\n",
              "      channel.send({})\n",
              "\n",
              "      for await (const message of channel.messages) {\n",
              "        // Send a message to notify the kernel that we're ready.\n",
              "        channel.send({})\n",
              "        if (message.buffers) {\n",
              "          for (const buffer of message.buffers) {\n",
              "            buffers.push(buffer);\n",
              "            downloaded += buffer.byteLength;\n",
              "            progress.value = downloaded;\n",
              "          }\n",
              "        }\n",
              "      }\n",
              "      const blob = new Blob(buffers, {type: 'application/binary'});\n",
              "      const a = document.createElement('a');\n",
              "      a.href = window.URL.createObjectURL(blob);\n",
              "      a.download = filename;\n",
              "      div.appendChild(a);\n",
              "      a.click();\n",
              "      div.remove();\n",
              "    }\n",
              "  "
            ]
          },
          "metadata": {}
        },
        {
          "output_type": "display_data",
          "data": {
            "text/plain": [
              "<IPython.core.display.Javascript object>"
            ],
            "application/javascript": [
              "download(\"download_2e5b1486-3453-4cef-9dcb-db81cbea08cb\", \"clientes_sin_nulos.csv\", 271544)"
            ]
          },
          "metadata": {}
        },
        {
          "output_type": "display_data",
          "data": {
            "text/plain": [
              "<IPython.core.display.Javascript object>"
            ],
            "application/javascript": [
              "\n",
              "    async function download(id, filename, size) {\n",
              "      if (!google.colab.kernel.accessAllowed) {\n",
              "        return;\n",
              "      }\n",
              "      const div = document.createElement('div');\n",
              "      const label = document.createElement('label');\n",
              "      label.textContent = `Downloading \"${filename}\": `;\n",
              "      div.appendChild(label);\n",
              "      const progress = document.createElement('progress');\n",
              "      progress.max = size;\n",
              "      div.appendChild(progress);\n",
              "      document.body.appendChild(div);\n",
              "\n",
              "      const buffers = [];\n",
              "      let downloaded = 0;\n",
              "\n",
              "      const channel = await google.colab.kernel.comms.open(id);\n",
              "      // Send a message to notify the kernel that we're ready.\n",
              "      channel.send({})\n",
              "\n",
              "      for await (const message of channel.messages) {\n",
              "        // Send a message to notify the kernel that we're ready.\n",
              "        channel.send({})\n",
              "        if (message.buffers) {\n",
              "          for (const buffer of message.buffers) {\n",
              "            buffers.push(buffer);\n",
              "            downloaded += buffer.byteLength;\n",
              "            progress.value = downloaded;\n",
              "          }\n",
              "        }\n",
              "      }\n",
              "      const blob = new Blob(buffers, {type: 'application/binary'});\n",
              "      const a = document.createElement('a');\n",
              "      a.href = window.URL.createObjectURL(blob);\n",
              "      a.download = filename;\n",
              "      div.appendChild(a);\n",
              "      a.click();\n",
              "      div.remove();\n",
              "    }\n",
              "  "
            ]
          },
          "metadata": {}
        },
        {
          "output_type": "display_data",
          "data": {
            "text/plain": [
              "<IPython.core.display.Javascript object>"
            ],
            "application/javascript": [
              "download(\"download_a6068ec0-817b-4b83-8eca-8e564f58cccf\", \"facturacion_sin_nulos.csv\", 1406405)"
            ]
          },
          "metadata": {}
        },
        {
          "output_type": "display_data",
          "data": {
            "text/plain": [
              "<IPython.core.display.Javascript object>"
            ],
            "application/javascript": [
              "\n",
              "    async function download(id, filename, size) {\n",
              "      if (!google.colab.kernel.accessAllowed) {\n",
              "        return;\n",
              "      }\n",
              "      const div = document.createElement('div');\n",
              "      const label = document.createElement('label');\n",
              "      label.textContent = `Downloading \"${filename}\": `;\n",
              "      div.appendChild(label);\n",
              "      const progress = document.createElement('progress');\n",
              "      progress.max = size;\n",
              "      div.appendChild(progress);\n",
              "      document.body.appendChild(div);\n",
              "\n",
              "      const buffers = [];\n",
              "      let downloaded = 0;\n",
              "\n",
              "      const channel = await google.colab.kernel.comms.open(id);\n",
              "      // Send a message to notify the kernel that we're ready.\n",
              "      channel.send({})\n",
              "\n",
              "      for await (const message of channel.messages) {\n",
              "        // Send a message to notify the kernel that we're ready.\n",
              "        channel.send({})\n",
              "        if (message.buffers) {\n",
              "          for (const buffer of message.buffers) {\n",
              "            buffers.push(buffer);\n",
              "            downloaded += buffer.byteLength;\n",
              "            progress.value = downloaded;\n",
              "          }\n",
              "        }\n",
              "      }\n",
              "      const blob = new Blob(buffers, {type: 'application/binary'});\n",
              "      const a = document.createElement('a');\n",
              "      a.href = window.URL.createObjectURL(blob);\n",
              "      a.download = filename;\n",
              "      div.appendChild(a);\n",
              "      a.click();\n",
              "      div.remove();\n",
              "    }\n",
              "  "
            ]
          },
          "metadata": {}
        },
        {
          "output_type": "display_data",
          "data": {
            "text/plain": [
              "<IPython.core.display.Javascript object>"
            ],
            "application/javascript": [
              "download(\"download_c0c0cd37-590d-4885-848e-a9ae8690c956\", \"notas_credito_sin_nulos.csv\", 64121)"
            ]
          },
          "metadata": {}
        },
        {
          "output_type": "display_data",
          "data": {
            "text/plain": [
              "<IPython.core.display.Javascript object>"
            ],
            "application/javascript": [
              "\n",
              "    async function download(id, filename, size) {\n",
              "      if (!google.colab.kernel.accessAllowed) {\n",
              "        return;\n",
              "      }\n",
              "      const div = document.createElement('div');\n",
              "      const label = document.createElement('label');\n",
              "      label.textContent = `Downloading \"${filename}\": `;\n",
              "      div.appendChild(label);\n",
              "      const progress = document.createElement('progress');\n",
              "      progress.max = size;\n",
              "      div.appendChild(progress);\n",
              "      document.body.appendChild(div);\n",
              "\n",
              "      const buffers = [];\n",
              "      let downloaded = 0;\n",
              "\n",
              "      const channel = await google.colab.kernel.comms.open(id);\n",
              "      // Send a message to notify the kernel that we're ready.\n",
              "      channel.send({})\n",
              "\n",
              "      for await (const message of channel.messages) {\n",
              "        // Send a message to notify the kernel that we're ready.\n",
              "        channel.send({})\n",
              "        if (message.buffers) {\n",
              "          for (const buffer of message.buffers) {\n",
              "            buffers.push(buffer);\n",
              "            downloaded += buffer.byteLength;\n",
              "            progress.value = downloaded;\n",
              "          }\n",
              "        }\n",
              "      }\n",
              "      const blob = new Blob(buffers, {type: 'application/binary'});\n",
              "      const a = document.createElement('a');\n",
              "      a.href = window.URL.createObjectURL(blob);\n",
              "      a.download = filename;\n",
              "      div.appendChild(a);\n",
              "      a.click();\n",
              "      div.remove();\n",
              "    }\n",
              "  "
            ]
          },
          "metadata": {}
        },
        {
          "output_type": "display_data",
          "data": {
            "text/plain": [
              "<IPython.core.display.Javascript object>"
            ],
            "application/javascript": [
              "download(\"download_edb257c5-04e3-4a39-be8d-ffe468b0a90f\", \"gastos_2020_sin_nulos.csv\", 703258)"
            ]
          },
          "metadata": {}
        },
        {
          "output_type": "display_data",
          "data": {
            "text/plain": [
              "<IPython.core.display.Javascript object>"
            ],
            "application/javascript": [
              "\n",
              "    async function download(id, filename, size) {\n",
              "      if (!google.colab.kernel.accessAllowed) {\n",
              "        return;\n",
              "      }\n",
              "      const div = document.createElement('div');\n",
              "      const label = document.createElement('label');\n",
              "      label.textContent = `Downloading \"${filename}\": `;\n",
              "      div.appendChild(label);\n",
              "      const progress = document.createElement('progress');\n",
              "      progress.max = size;\n",
              "      div.appendChild(progress);\n",
              "      document.body.appendChild(div);\n",
              "\n",
              "      const buffers = [];\n",
              "      let downloaded = 0;\n",
              "\n",
              "      const channel = await google.colab.kernel.comms.open(id);\n",
              "      // Send a message to notify the kernel that we're ready.\n",
              "      channel.send({})\n",
              "\n",
              "      for await (const message of channel.messages) {\n",
              "        // Send a message to notify the kernel that we're ready.\n",
              "        channel.send({})\n",
              "        if (message.buffers) {\n",
              "          for (const buffer of message.buffers) {\n",
              "            buffers.push(buffer);\n",
              "            downloaded += buffer.byteLength;\n",
              "            progress.value = downloaded;\n",
              "          }\n",
              "        }\n",
              "      }\n",
              "      const blob = new Blob(buffers, {type: 'application/binary'});\n",
              "      const a = document.createElement('a');\n",
              "      a.href = window.URL.createObjectURL(blob);\n",
              "      a.download = filename;\n",
              "      div.appendChild(a);\n",
              "      a.click();\n",
              "      div.remove();\n",
              "    }\n",
              "  "
            ]
          },
          "metadata": {}
        },
        {
          "output_type": "display_data",
          "data": {
            "text/plain": [
              "<IPython.core.display.Javascript object>"
            ],
            "application/javascript": [
              "download(\"download_76ddfefb-c695-4f21-81c7-2e6c7006a055\", \"gastos_2021_sin_nulos.csv\", 636850)"
            ]
          },
          "metadata": {}
        },
        {
          "output_type": "display_data",
          "data": {
            "text/plain": [
              "<IPython.core.display.Javascript object>"
            ],
            "application/javascript": [
              "\n",
              "    async function download(id, filename, size) {\n",
              "      if (!google.colab.kernel.accessAllowed) {\n",
              "        return;\n",
              "      }\n",
              "      const div = document.createElement('div');\n",
              "      const label = document.createElement('label');\n",
              "      label.textContent = `Downloading \"${filename}\": `;\n",
              "      div.appendChild(label);\n",
              "      const progress = document.createElement('progress');\n",
              "      progress.max = size;\n",
              "      div.appendChild(progress);\n",
              "      document.body.appendChild(div);\n",
              "\n",
              "      const buffers = [];\n",
              "      let downloaded = 0;\n",
              "\n",
              "      const channel = await google.colab.kernel.comms.open(id);\n",
              "      // Send a message to notify the kernel that we're ready.\n",
              "      channel.send({})\n",
              "\n",
              "      for await (const message of channel.messages) {\n",
              "        // Send a message to notify the kernel that we're ready.\n",
              "        channel.send({})\n",
              "        if (message.buffers) {\n",
              "          for (const buffer of message.buffers) {\n",
              "            buffers.push(buffer);\n",
              "            downloaded += buffer.byteLength;\n",
              "            progress.value = downloaded;\n",
              "          }\n",
              "        }\n",
              "      }\n",
              "      const blob = new Blob(buffers, {type: 'application/binary'});\n",
              "      const a = document.createElement('a');\n",
              "      a.href = window.URL.createObjectURL(blob);\n",
              "      a.download = filename;\n",
              "      div.appendChild(a);\n",
              "      a.click();\n",
              "      div.remove();\n",
              "    }\n",
              "  "
            ]
          },
          "metadata": {}
        },
        {
          "output_type": "display_data",
          "data": {
            "text/plain": [
              "<IPython.core.display.Javascript object>"
            ],
            "application/javascript": [
              "download(\"download_4dd79ee0-8bc9-4c78-b279-ff465b56f0e9\", \"gastos_2022_sin_nulos.csv\", 549095)"
            ]
          },
          "metadata": {}
        },
        {
          "output_type": "display_data",
          "data": {
            "text/plain": [
              "<IPython.core.display.Javascript object>"
            ],
            "application/javascript": [
              "\n",
              "    async function download(id, filename, size) {\n",
              "      if (!google.colab.kernel.accessAllowed) {\n",
              "        return;\n",
              "      }\n",
              "      const div = document.createElement('div');\n",
              "      const label = document.createElement('label');\n",
              "      label.textContent = `Downloading \"${filename}\": `;\n",
              "      div.appendChild(label);\n",
              "      const progress = document.createElement('progress');\n",
              "      progress.max = size;\n",
              "      div.appendChild(progress);\n",
              "      document.body.appendChild(div);\n",
              "\n",
              "      const buffers = [];\n",
              "      let downloaded = 0;\n",
              "\n",
              "      const channel = await google.colab.kernel.comms.open(id);\n",
              "      // Send a message to notify the kernel that we're ready.\n",
              "      channel.send({})\n",
              "\n",
              "      for await (const message of channel.messages) {\n",
              "        // Send a message to notify the kernel that we're ready.\n",
              "        channel.send({})\n",
              "        if (message.buffers) {\n",
              "          for (const buffer of message.buffers) {\n",
              "            buffers.push(buffer);\n",
              "            downloaded += buffer.byteLength;\n",
              "            progress.value = downloaded;\n",
              "          }\n",
              "        }\n",
              "      }\n",
              "      const blob = new Blob(buffers, {type: 'application/binary'});\n",
              "      const a = document.createElement('a');\n",
              "      a.href = window.URL.createObjectURL(blob);\n",
              "      a.download = filename;\n",
              "      div.appendChild(a);\n",
              "      a.click();\n",
              "      div.remove();\n",
              "    }\n",
              "  "
            ]
          },
          "metadata": {}
        },
        {
          "output_type": "display_data",
          "data": {
            "text/plain": [
              "<IPython.core.display.Javascript object>"
            ],
            "application/javascript": [
              "download(\"download_80cfea02-8c46-4b4c-823e-8c16b57228ad\", \"gastos_2023_sin_nulos.csv\", 85848)"
            ]
          },
          "metadata": {}
        }
      ]
    }
  ]
}